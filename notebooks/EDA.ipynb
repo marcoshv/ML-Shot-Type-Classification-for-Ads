{
 "cells": [
  {
   "cell_type": "markdown",
   "metadata": {},
   "source": [
    "## EDA"
   ]
  },
  {
   "cell_type": "markdown",
   "metadata": {},
   "source": [
    "Download the dataset (images and JSON files with annotations). Start with EDA. Get metrics about the number of classes, images, and their size, quality, etc. Understand the dataset structure and labeling.  "
   ]
  },
  {
   "cell_type": "code",
   "execution_count": 2,
   "metadata": {},
   "outputs": [],
   "source": [
    "import pandas as pd\n",
    "import matplotlib.pyplot as plt\n",
    "import seaborn as sns\n",
    "sns.set()"
   ]
  },
  {
   "cell_type": "code",
   "execution_count": 3,
   "metadata": {},
   "outputs": [],
   "source": [
    "# Creates a dataframe from the 'datasetv1_movie_shot_trailers.csv' file for EDA (exploratory data analysis)\n",
    "df_dataset_trailer = pd.read_csv('../data_movies/csv_files/datasetv1_movie_shot_trailers.csv')"
   ]
  },
  {
   "cell_type": "code",
   "execution_count": 4,
   "metadata": {},
   "outputs": [],
   "source": [
    "# Create 3 train, test and val dataframes from the train,test and val .csv files \n",
    "df_v1_split_train = pd.read_csv('../data_movies/csv_files/train.csv')\n",
    "df_v1_split_test = pd.read_csv('../data_movies/csv_files/test.csv')\n",
    "df_v1_split_val = pd.read_csv('../data_movies/csv_files/val.csv')"
   ]
  },
  {
   "cell_type": "code",
   "execution_count": 5,
   "metadata": {},
   "outputs": [
    {
     "name": "stdout",
     "output_type": "stream",
     "text": [
      "Train dataset`s shape (20856, 13)\n"
     ]
    },
    {
     "data": {
      "text/html": [
       "<div>\n",
       "<style scoped>\n",
       "    .dataframe tbody tr th:only-of-type {\n",
       "        vertical-align: middle;\n",
       "    }\n",
       "\n",
       "    .dataframe tbody tr th {\n",
       "        vertical-align: top;\n",
       "    }\n",
       "\n",
       "    .dataframe thead th {\n",
       "        text-align: right;\n",
       "    }\n",
       "</style>\n",
       "<table border=\"1\" class=\"dataframe\">\n",
       "  <thead>\n",
       "    <tr style=\"text-align: right;\">\n",
       "      <th></th>\n",
       "      <th>movie_id</th>\n",
       "      <th>movie_scene_id</th>\n",
       "      <th>scene_scale_label</th>\n",
       "      <th>scene_scale_value</th>\n",
       "      <th>scene_movement_label</th>\n",
       "      <th>scene_movement_value</th>\n",
       "      <th>data_split_type</th>\n",
       "      <th>scene_frames</th>\n",
       "      <th>scene_width</th>\n",
       "      <th>scene_height</th>\n",
       "      <th>scene_fps</th>\n",
       "      <th>scene_duration</th>\n",
       "      <th>scene_fullpath</th>\n",
       "    </tr>\n",
       "  </thead>\n",
       "  <tbody>\n",
       "    <tr>\n",
       "      <th>5183</th>\n",
       "      <td>tt2443164</td>\n",
       "      <td>1</td>\n",
       "      <td>LS</td>\n",
       "      <td>4</td>\n",
       "      <td>Motion</td>\n",
       "      <td>0</td>\n",
       "      <td>train</td>\n",
       "      <td>121.0</td>\n",
       "      <td>1920.0</td>\n",
       "      <td>1080.0</td>\n",
       "      <td>23.97</td>\n",
       "      <td>5.05</td>\n",
       "      <td>data_movies/trailer/tt2443164/shot_0001.mp4</td>\n",
       "    </tr>\n",
       "    <tr>\n",
       "      <th>5221</th>\n",
       "      <td>tt2446600</td>\n",
       "      <td>28</td>\n",
       "      <td>CS</td>\n",
       "      <td>1</td>\n",
       "      <td>Static</td>\n",
       "      <td>4</td>\n",
       "      <td>train</td>\n",
       "      <td>72.0</td>\n",
       "      <td>1920.0</td>\n",
       "      <td>856.0</td>\n",
       "      <td>25.00</td>\n",
       "      <td>2.88</td>\n",
       "      <td>data_movies/trailer/tt2446600/shot_0028.mp4</td>\n",
       "    </tr>\n",
       "    <tr>\n",
       "      <th>15845</th>\n",
       "      <td>tt4232610</td>\n",
       "      <td>54</td>\n",
       "      <td>MS</td>\n",
       "      <td>2</td>\n",
       "      <td>Static</td>\n",
       "      <td>4</td>\n",
       "      <td>train</td>\n",
       "      <td>16.0</td>\n",
       "      <td>1920.0</td>\n",
       "      <td>1080.0</td>\n",
       "      <td>25.00</td>\n",
       "      <td>0.64</td>\n",
       "      <td>data_movies/trailer/tt4232610/shot_0054.mp4</td>\n",
       "    </tr>\n",
       "    <tr>\n",
       "      <th>425</th>\n",
       "      <td>tt2062966</td>\n",
       "      <td>17</td>\n",
       "      <td>ECS</td>\n",
       "      <td>0</td>\n",
       "      <td>Motion</td>\n",
       "      <td>0</td>\n",
       "      <td>train</td>\n",
       "      <td>14.0</td>\n",
       "      <td>1920.0</td>\n",
       "      <td>1080.0</td>\n",
       "      <td>23.97</td>\n",
       "      <td>0.58</td>\n",
       "      <td>data_movies/trailer/tt2062966/shot_0017.mp4</td>\n",
       "    </tr>\n",
       "    <tr>\n",
       "      <th>5151</th>\n",
       "      <td>tt2441982</td>\n",
       "      <td>53</td>\n",
       "      <td>MS</td>\n",
       "      <td>2</td>\n",
       "      <td>Static</td>\n",
       "      <td>4</td>\n",
       "      <td>train</td>\n",
       "      <td>29.0</td>\n",
       "      <td>1920.0</td>\n",
       "      <td>1080.0</td>\n",
       "      <td>25.00</td>\n",
       "      <td>1.16</td>\n",
       "      <td>data_movies/trailer/tt2441982/shot_0053.mp4</td>\n",
       "    </tr>\n",
       "  </tbody>\n",
       "</table>\n",
       "</div>"
      ],
      "text/plain": [
       "        movie_id  movie_scene_id scene_scale_label  scene_scale_value  \\\n",
       "5183   tt2443164               1                LS                  4   \n",
       "5221   tt2446600              28                CS                  1   \n",
       "15845  tt4232610              54                MS                  2   \n",
       "425    tt2062966              17               ECS                  0   \n",
       "5151   tt2441982              53                MS                  2   \n",
       "\n",
       "      scene_movement_label  scene_movement_value data_split_type  \\\n",
       "5183                Motion                     0           train   \n",
       "5221                Static                     4           train   \n",
       "15845               Static                     4           train   \n",
       "425                 Motion                     0           train   \n",
       "5151                Static                     4           train   \n",
       "\n",
       "       scene_frames  scene_width  scene_height  scene_fps  scene_duration  \\\n",
       "5183          121.0       1920.0        1080.0      23.97            5.05   \n",
       "5221           72.0       1920.0         856.0      25.00            2.88   \n",
       "15845          16.0       1920.0        1080.0      25.00            0.64   \n",
       "425            14.0       1920.0        1080.0      23.97            0.58   \n",
       "5151           29.0       1920.0        1080.0      25.00            1.16   \n",
       "\n",
       "                                    scene_fullpath  \n",
       "5183   data_movies/trailer/tt2443164/shot_0001.mp4  \n",
       "5221   data_movies/trailer/tt2446600/shot_0028.mp4  \n",
       "15845  data_movies/trailer/tt4232610/shot_0054.mp4  \n",
       "425    data_movies/trailer/tt2062966/shot_0017.mp4  \n",
       "5151   data_movies/trailer/tt2441982/shot_0053.mp4  "
      ]
     },
     "execution_count": 5,
     "metadata": {},
     "output_type": "execute_result"
    }
   ],
   "source": [
    "print(f'Train dataset`s shape {df_v1_split_train.shape}')\n",
    "df_v1_split_train .sample(5)"
   ]
  },
  {
   "cell_type": "code",
   "execution_count": 6,
   "metadata": {},
   "outputs": [
    {
     "data": {
      "text/plain": [
       "array(['CS', 'ECS', 'MS', 'FS', 'LS'], dtype=object)"
      ]
     },
     "execution_count": 6,
     "metadata": {},
     "output_type": "execute_result"
    }
   ],
   "source": [
    "df_v1_split_train.scene_scale_label.unique()"
   ]
  },
  {
   "cell_type": "code",
   "execution_count": 7,
   "metadata": {},
   "outputs": [
    {
     "data": {
      "text/plain": [
       "array(['Static', 'Motion', 'Pull', 'Push', 'Multi_movement'], dtype=object)"
      ]
     },
     "execution_count": 7,
     "metadata": {},
     "output_type": "execute_result"
    }
   ],
   "source": [
    "df_v1_split_train.scene_movement_label.unique()"
   ]
  },
  {
   "cell_type": "code",
   "execution_count": 52,
   "metadata": {},
   "outputs": [
    {
     "name": "stdout",
     "output_type": "stream",
     "text": [
      "Test dataset`s shape (8187, 13)\n"
     ]
    },
    {
     "data": {
      "text/html": [
       "<div>\n",
       "<style scoped>\n",
       "    .dataframe tbody tr th:only-of-type {\n",
       "        vertical-align: middle;\n",
       "    }\n",
       "\n",
       "    .dataframe tbody tr th {\n",
       "        vertical-align: top;\n",
       "    }\n",
       "\n",
       "    .dataframe thead th {\n",
       "        text-align: right;\n",
       "    }\n",
       "</style>\n",
       "<table border=\"1\" class=\"dataframe\">\n",
       "  <thead>\n",
       "    <tr style=\"text-align: right;\">\n",
       "      <th></th>\n",
       "      <th>movie_id</th>\n",
       "      <th>movie_scene_id</th>\n",
       "      <th>scene_scale_label</th>\n",
       "      <th>scene_scale_value</th>\n",
       "      <th>scene_movement_label</th>\n",
       "      <th>scene_movement_value</th>\n",
       "      <th>data_split_type</th>\n",
       "      <th>scene_frames</th>\n",
       "      <th>scene_width</th>\n",
       "      <th>scene_height</th>\n",
       "      <th>scene_fps</th>\n",
       "      <th>scene_duration</th>\n",
       "      <th>scene_fullpath</th>\n",
       "    </tr>\n",
       "  </thead>\n",
       "  <tbody>\n",
       "    <tr>\n",
       "      <th>6855</th>\n",
       "      <td>tt4679092</td>\n",
       "      <td>40</td>\n",
       "      <td>CS</td>\n",
       "      <td>1</td>\n",
       "      <td>Static</td>\n",
       "      <td>4</td>\n",
       "      <td>test</td>\n",
       "      <td>41.0</td>\n",
       "      <td>1920.0</td>\n",
       "      <td>1080.0</td>\n",
       "      <td>24.0</td>\n",
       "      <td>1.71</td>\n",
       "      <td>data_movies/trailer/tt4679092\\shot_0040.mp4</td>\n",
       "    </tr>\n",
       "    <tr>\n",
       "      <th>1619</th>\n",
       "      <td>tt2363471</td>\n",
       "      <td>65</td>\n",
       "      <td>ECS</td>\n",
       "      <td>0</td>\n",
       "      <td>Static</td>\n",
       "      <td>4</td>\n",
       "      <td>test</td>\n",
       "      <td>48.0</td>\n",
       "      <td>1280.0</td>\n",
       "      <td>720.0</td>\n",
       "      <td>25.0</td>\n",
       "      <td>1.92</td>\n",
       "      <td>data_movies/trailer/tt2363471\\shot_0065.mp4</td>\n",
       "    </tr>\n",
       "    <tr>\n",
       "      <th>6411</th>\n",
       "      <td>tt4374856</td>\n",
       "      <td>8</td>\n",
       "      <td>ECS</td>\n",
       "      <td>0</td>\n",
       "      <td>Static</td>\n",
       "      <td>4</td>\n",
       "      <td>test</td>\n",
       "      <td>20.0</td>\n",
       "      <td>1920.0</td>\n",
       "      <td>1080.0</td>\n",
       "      <td>24.0</td>\n",
       "      <td>0.83</td>\n",
       "      <td>data_movies/trailer/tt4374856\\shot_0008.mp4</td>\n",
       "    </tr>\n",
       "    <tr>\n",
       "      <th>5458</th>\n",
       "      <td>tt3835730</td>\n",
       "      <td>28</td>\n",
       "      <td>ECS</td>\n",
       "      <td>0</td>\n",
       "      <td>Static</td>\n",
       "      <td>4</td>\n",
       "      <td>test</td>\n",
       "      <td>103.0</td>\n",
       "      <td>1280.0</td>\n",
       "      <td>720.0</td>\n",
       "      <td>25.0</td>\n",
       "      <td>4.12</td>\n",
       "      <td>data_movies/trailer/tt3835730\\shot_0028.mp4</td>\n",
       "    </tr>\n",
       "    <tr>\n",
       "      <th>6564</th>\n",
       "      <td>tt4466550</td>\n",
       "      <td>12</td>\n",
       "      <td>LS</td>\n",
       "      <td>4</td>\n",
       "      <td>Static</td>\n",
       "      <td>4</td>\n",
       "      <td>test</td>\n",
       "      <td>22.0</td>\n",
       "      <td>1920.0</td>\n",
       "      <td>1080.0</td>\n",
       "      <td>25.0</td>\n",
       "      <td>0.88</td>\n",
       "      <td>data_movies/trailer/tt4466550\\shot_0012.mp4</td>\n",
       "    </tr>\n",
       "  </tbody>\n",
       "</table>\n",
       "</div>"
      ],
      "text/plain": [
       "       movie_id  movie_scene_id scene_scale_label  scene_scale_value  \\\n",
       "6855  tt4679092              40                CS                  1   \n",
       "1619  tt2363471              65               ECS                  0   \n",
       "6411  tt4374856               8               ECS                  0   \n",
       "5458  tt3835730              28               ECS                  0   \n",
       "6564  tt4466550              12                LS                  4   \n",
       "\n",
       "     scene_movement_label  scene_movement_value data_split_type  scene_frames  \\\n",
       "6855               Static                     4            test          41.0   \n",
       "1619               Static                     4            test          48.0   \n",
       "6411               Static                     4            test          20.0   \n",
       "5458               Static                     4            test         103.0   \n",
       "6564               Static                     4            test          22.0   \n",
       "\n",
       "      scene_width  scene_height  scene_fps  scene_duration  \\\n",
       "6855       1920.0        1080.0       24.0            1.71   \n",
       "1619       1280.0         720.0       25.0            1.92   \n",
       "6411       1920.0        1080.0       24.0            0.83   \n",
       "5458       1280.0         720.0       25.0            4.12   \n",
       "6564       1920.0        1080.0       25.0            0.88   \n",
       "\n",
       "                                   scene_fullpath  \n",
       "6855  data_movies/trailer/tt4679092\\shot_0040.mp4  \n",
       "1619  data_movies/trailer/tt2363471\\shot_0065.mp4  \n",
       "6411  data_movies/trailer/tt4374856\\shot_0008.mp4  \n",
       "5458  data_movies/trailer/tt3835730\\shot_0028.mp4  \n",
       "6564  data_movies/trailer/tt4466550\\shot_0012.mp4  "
      ]
     },
     "execution_count": 52,
     "metadata": {},
     "output_type": "execute_result"
    }
   ],
   "source": [
    "print(f'Test dataset`s shape {df_v1_split_test.shape}')\n",
    "df_v1_split_test.sample(5)"
   ]
  },
  {
   "cell_type": "code",
   "execution_count": 11,
   "metadata": {},
   "outputs": [
    {
     "name": "stdout",
     "output_type": "stream",
     "text": [
      "Validation dataset`s shape (4610, 14)\n"
     ]
    },
    {
     "data": {
      "text/html": [
       "<div>\n",
       "<style scoped>\n",
       "    .dataframe tbody tr th:only-of-type {\n",
       "        vertical-align: middle;\n",
       "    }\n",
       "\n",
       "    .dataframe tbody tr th {\n",
       "        vertical-align: top;\n",
       "    }\n",
       "\n",
       "    .dataframe thead th {\n",
       "        text-align: right;\n",
       "    }\n",
       "</style>\n",
       "<table border=\"1\" class=\"dataframe\">\n",
       "  <thead>\n",
       "    <tr style=\"text-align: right;\">\n",
       "      <th></th>\n",
       "      <th>Unnamed: 0</th>\n",
       "      <th>movie_id</th>\n",
       "      <th>movie_scene_id</th>\n",
       "      <th>scene_scale_label</th>\n",
       "      <th>scene_scale_value</th>\n",
       "      <th>scene_movement_label</th>\n",
       "      <th>scene_movement_value</th>\n",
       "      <th>data_split_type</th>\n",
       "      <th>scene_frames</th>\n",
       "      <th>scene_width</th>\n",
       "      <th>scene_height</th>\n",
       "      <th>scene_fps</th>\n",
       "      <th>scene_duration</th>\n",
       "      <th>scene_fullpath</th>\n",
       "    </tr>\n",
       "  </thead>\n",
       "  <tbody>\n",
       "    <tr>\n",
       "      <th>832</th>\n",
       "      <td>29875</td>\n",
       "      <td>tt2343713</td>\n",
       "      <td>68</td>\n",
       "      <td>MS</td>\n",
       "      <td>2</td>\n",
       "      <td>Static</td>\n",
       "      <td>4</td>\n",
       "      <td>val</td>\n",
       "      <td>30.0</td>\n",
       "      <td>1920.0</td>\n",
       "      <td>1080.0</td>\n",
       "      <td>29.97</td>\n",
       "      <td>1.00</td>\n",
       "      <td>movie-shot-trailers/trailer/tt2343713\\shot_006...</td>\n",
       "    </tr>\n",
       "    <tr>\n",
       "      <th>1984</th>\n",
       "      <td>31027</td>\n",
       "      <td>tt3110960</td>\n",
       "      <td>52</td>\n",
       "      <td>MS</td>\n",
       "      <td>2</td>\n",
       "      <td>Motion</td>\n",
       "      <td>0</td>\n",
       "      <td>val</td>\n",
       "      <td>18.0</td>\n",
       "      <td>1920.0</td>\n",
       "      <td>1080.0</td>\n",
       "      <td>24.00</td>\n",
       "      <td>0.75</td>\n",
       "      <td>movie-shot-trailers/trailer/tt3110960\\shot_005...</td>\n",
       "    </tr>\n",
       "    <tr>\n",
       "      <th>3246</th>\n",
       "      <td>32289</td>\n",
       "      <td>tt3948370</td>\n",
       "      <td>6</td>\n",
       "      <td>ECS</td>\n",
       "      <td>0</td>\n",
       "      <td>Motion</td>\n",
       "      <td>0</td>\n",
       "      <td>val</td>\n",
       "      <td>27.0</td>\n",
       "      <td>1920.0</td>\n",
       "      <td>1080.0</td>\n",
       "      <td>24.00</td>\n",
       "      <td>1.12</td>\n",
       "      <td>movie-shot-trailers/trailer/tt3948370\\shot_000...</td>\n",
       "    </tr>\n",
       "    <tr>\n",
       "      <th>882</th>\n",
       "      <td>29925</td>\n",
       "      <td>tt2361509</td>\n",
       "      <td>38</td>\n",
       "      <td>MS</td>\n",
       "      <td>2</td>\n",
       "      <td>Static</td>\n",
       "      <td>4</td>\n",
       "      <td>val</td>\n",
       "      <td>75.0</td>\n",
       "      <td>1920.0</td>\n",
       "      <td>1080.0</td>\n",
       "      <td>25.00</td>\n",
       "      <td>3.00</td>\n",
       "      <td>movie-shot-trailers/trailer/tt2361509\\shot_003...</td>\n",
       "    </tr>\n",
       "    <tr>\n",
       "      <th>2902</th>\n",
       "      <td>31945</td>\n",
       "      <td>tt3727096</td>\n",
       "      <td>1</td>\n",
       "      <td>LS</td>\n",
       "      <td>4</td>\n",
       "      <td>Static</td>\n",
       "      <td>4</td>\n",
       "      <td>val</td>\n",
       "      <td>87.0</td>\n",
       "      <td>1920.0</td>\n",
       "      <td>1080.0</td>\n",
       "      <td>24.00</td>\n",
       "      <td>3.62</td>\n",
       "      <td>movie-shot-trailers/trailer/tt3727096\\shot_000...</td>\n",
       "    </tr>\n",
       "  </tbody>\n",
       "</table>\n",
       "</div>"
      ],
      "text/plain": [
       "      Unnamed: 0   movie_id  movie_scene_id scene_scale_label  \\\n",
       "832        29875  tt2343713              68                MS   \n",
       "1984       31027  tt3110960              52                MS   \n",
       "3246       32289  tt3948370               6               ECS   \n",
       "882        29925  tt2361509              38                MS   \n",
       "2902       31945  tt3727096               1                LS   \n",
       "\n",
       "      scene_scale_value scene_movement_label  scene_movement_value  \\\n",
       "832                   2               Static                     4   \n",
       "1984                  2               Motion                     0   \n",
       "3246                  0               Motion                     0   \n",
       "882                   2               Static                     4   \n",
       "2902                  4               Static                     4   \n",
       "\n",
       "     data_split_type  scene_frames  scene_width  scene_height  scene_fps  \\\n",
       "832              val          30.0       1920.0        1080.0      29.97   \n",
       "1984             val          18.0       1920.0        1080.0      24.00   \n",
       "3246             val          27.0       1920.0        1080.0      24.00   \n",
       "882              val          75.0       1920.0        1080.0      25.00   \n",
       "2902             val          87.0       1920.0        1080.0      24.00   \n",
       "\n",
       "      scene_duration                                     scene_fullpath  \n",
       "832             1.00  movie-shot-trailers/trailer/tt2343713\\shot_006...  \n",
       "1984            0.75  movie-shot-trailers/trailer/tt3110960\\shot_005...  \n",
       "3246            1.12  movie-shot-trailers/trailer/tt3948370\\shot_000...  \n",
       "882             3.00  movie-shot-trailers/trailer/tt2361509\\shot_003...  \n",
       "2902            3.62  movie-shot-trailers/trailer/tt3727096\\shot_000...  "
      ]
     },
     "execution_count": 11,
     "metadata": {},
     "output_type": "execute_result"
    }
   ],
   "source": [
    "print(f'Validation dataset`s shape {df_v1_split_val.shape}')\n",
    "df_v1_split_val.sample(5)"
   ]
  },
  {
   "cell_type": "markdown",
   "metadata": {},
   "source": [
    "**Dataset Basics**"
   ]
  },
  {
   "cell_type": "code",
   "execution_count": 12,
   "metadata": {},
   "outputs": [
    {
     "name": "stdout",
     "output_type": "stream",
     "text": [
      "Complete dataset`s shape (33653, 13)\n"
     ]
    },
    {
     "data": {
      "text/html": [
       "<div>\n",
       "<style scoped>\n",
       "    .dataframe tbody tr th:only-of-type {\n",
       "        vertical-align: middle;\n",
       "    }\n",
       "\n",
       "    .dataframe tbody tr th {\n",
       "        vertical-align: top;\n",
       "    }\n",
       "\n",
       "    .dataframe thead th {\n",
       "        text-align: right;\n",
       "    }\n",
       "</style>\n",
       "<table border=\"1\" class=\"dataframe\">\n",
       "  <thead>\n",
       "    <tr style=\"text-align: right;\">\n",
       "      <th></th>\n",
       "      <th>movie_id</th>\n",
       "      <th>movie_scene_id</th>\n",
       "      <th>scene_scale_label</th>\n",
       "      <th>scene_scale_value</th>\n",
       "      <th>scene_movement_label</th>\n",
       "      <th>scene_movement_value</th>\n",
       "      <th>data_split_type</th>\n",
       "      <th>scene_frames</th>\n",
       "      <th>scene_width</th>\n",
       "      <th>scene_height</th>\n",
       "      <th>scene_fps</th>\n",
       "      <th>scene_duration</th>\n",
       "      <th>scene_fullpath</th>\n",
       "    </tr>\n",
       "  </thead>\n",
       "  <tbody>\n",
       "    <tr>\n",
       "      <th>25988</th>\n",
       "      <td>tt3681448</td>\n",
       "      <td>60</td>\n",
       "      <td>MS</td>\n",
       "      <td>2</td>\n",
       "      <td>Static</td>\n",
       "      <td>4</td>\n",
       "      <td>test</td>\n",
       "      <td>36.0</td>\n",
       "      <td>1920.0</td>\n",
       "      <td>1080.0</td>\n",
       "      <td>24.00</td>\n",
       "      <td>1.50</td>\n",
       "      <td>movie-shot-trailers/trailer/tt3681448\\shot_006...</td>\n",
       "    </tr>\n",
       "    <tr>\n",
       "      <th>31912</th>\n",
       "      <td>tt3704926</td>\n",
       "      <td>2</td>\n",
       "      <td>ECS</td>\n",
       "      <td>0</td>\n",
       "      <td>Static</td>\n",
       "      <td>4</td>\n",
       "      <td>val</td>\n",
       "      <td>65.0</td>\n",
       "      <td>1920.0</td>\n",
       "      <td>1080.0</td>\n",
       "      <td>23.98</td>\n",
       "      <td>2.71</td>\n",
       "      <td>movie-shot-trailers/trailer/tt3704926\\shot_000...</td>\n",
       "    </tr>\n",
       "    <tr>\n",
       "      <th>17419</th>\n",
       "      <td>tt4679186</td>\n",
       "      <td>48</td>\n",
       "      <td>CS</td>\n",
       "      <td>1</td>\n",
       "      <td>Static</td>\n",
       "      <td>4</td>\n",
       "      <td>train</td>\n",
       "      <td>39.0</td>\n",
       "      <td>1920.0</td>\n",
       "      <td>1080.0</td>\n",
       "      <td>24.00</td>\n",
       "      <td>1.62</td>\n",
       "      <td>movie-shot-trailers/trailer/tt4679186\\shot_004...</td>\n",
       "    </tr>\n",
       "    <tr>\n",
       "      <th>10976</th>\n",
       "      <td>tt3353060</td>\n",
       "      <td>69</td>\n",
       "      <td>ECS</td>\n",
       "      <td>0</td>\n",
       "      <td>Static</td>\n",
       "      <td>4</td>\n",
       "      <td>train</td>\n",
       "      <td>27.0</td>\n",
       "      <td>1920.0</td>\n",
       "      <td>1080.0</td>\n",
       "      <td>23.98</td>\n",
       "      <td>1.13</td>\n",
       "      <td>movie-shot-trailers/trailer/tt3353060\\shot_006...</td>\n",
       "    </tr>\n",
       "    <tr>\n",
       "      <th>5461</th>\n",
       "      <td>tt2468638</td>\n",
       "      <td>42</td>\n",
       "      <td>LS</td>\n",
       "      <td>4</td>\n",
       "      <td>Motion</td>\n",
       "      <td>0</td>\n",
       "      <td>train</td>\n",
       "      <td>43.0</td>\n",
       "      <td>1920.0</td>\n",
       "      <td>1080.0</td>\n",
       "      <td>25.00</td>\n",
       "      <td>1.72</td>\n",
       "      <td>movie-shot-trailers/trailer/tt2468638\\shot_004...</td>\n",
       "    </tr>\n",
       "  </tbody>\n",
       "</table>\n",
       "</div>"
      ],
      "text/plain": [
       "        movie_id  movie_scene_id scene_scale_label  scene_scale_value  \\\n",
       "25988  tt3681448              60                MS                  2   \n",
       "31912  tt3704926               2               ECS                  0   \n",
       "17419  tt4679186              48                CS                  1   \n",
       "10976  tt3353060              69               ECS                  0   \n",
       "5461   tt2468638              42                LS                  4   \n",
       "\n",
       "      scene_movement_label  scene_movement_value data_split_type  \\\n",
       "25988               Static                     4            test   \n",
       "31912               Static                     4             val   \n",
       "17419               Static                     4           train   \n",
       "10976               Static                     4           train   \n",
       "5461                Motion                     0           train   \n",
       "\n",
       "       scene_frames  scene_width  scene_height  scene_fps  scene_duration  \\\n",
       "25988          36.0       1920.0        1080.0      24.00            1.50   \n",
       "31912          65.0       1920.0        1080.0      23.98            2.71   \n",
       "17419          39.0       1920.0        1080.0      24.00            1.62   \n",
       "10976          27.0       1920.0        1080.0      23.98            1.13   \n",
       "5461           43.0       1920.0        1080.0      25.00            1.72   \n",
       "\n",
       "                                          scene_fullpath  \n",
       "25988  movie-shot-trailers/trailer/tt3681448\\shot_006...  \n",
       "31912  movie-shot-trailers/trailer/tt3704926\\shot_000...  \n",
       "17419  movie-shot-trailers/trailer/tt4679186\\shot_004...  \n",
       "10976  movie-shot-trailers/trailer/tt3353060\\shot_006...  \n",
       "5461   movie-shot-trailers/trailer/tt2468638\\shot_004...  "
      ]
     },
     "execution_count": 12,
     "metadata": {},
     "output_type": "execute_result"
    }
   ],
   "source": [
    "print(f'Complete dataset`s shape {df_dataset_trailer.shape}')\n",
    "df_dataset_trailer.sample(5)"
   ]
  },
  {
   "cell_type": "code",
   "execution_count": 13,
   "metadata": {},
   "outputs": [
    {
     "name": "stderr",
     "output_type": "stream",
     "text": [
      "C:\\Users\\marco\\AppData\\Local\\Temp\\ipykernel_2384\\2058986921.py:3: FutureWarning: The default value of numeric_only in DataFrame.corr is deprecated. In a future version, it will default to False. Select only valid columns or specify the value of numeric_only to silence this warning.\n",
      "  heatmap = sns.heatmap(df_dataset_trailer.corr(), vmin=-1, vmax=1, annot=True, cmap='BrBG')\n"
     ]
    },
    {
     "data": {
      "text/plain": [
       "Text(0.5, 1.0, 'Correlation Heatmap')"
      ]
     },
     "execution_count": 13,
     "metadata": {},
     "output_type": "execute_result"
    },
    {
     "data": {
      "image/png": "[encoded data removed]",
      "text/plain": [
       "<Figure size 2000x300 with 2 Axes>"
      ]
     },
     "metadata": {},
     "output_type": "display_data"
    }
   ],
   "source": [
    "\"\"\" Plotting heatmap to see feaure correlation \"\"\"\n",
    "plt.figure(figsize=(20, 3))\n",
    "heatmap = sns.heatmap(df_dataset_trailer.corr(), vmin=-1, vmax=1, annot=True, cmap='BrBG')\n",
    "heatmap.set_title('Correlation Heatmap', fontdict={'fontsize':18}, pad=12)"
   ]
  },
  {
   "cell_type": "markdown",
   "metadata": {},
   "source": [
    "Print how many samples we have in our train, test, val datasets."
   ]
  },
  {
   "cell_type": "code",
   "execution_count": 14,
   "metadata": {},
   "outputs": [
    {
     "name": "stdout",
     "output_type": "stream",
     "text": [
      "The train dataset has 20856 movie scenes, 61.97%\n",
      "The test dataset has 8187 movie scenes, 24.33%\n",
      "The validation dataset has 4610 movie scenes, 13.7%\n",
      "Total movie scenes 33653\n"
     ]
    }
   ],
   "source": [
    "print(f'The train dataset has {df_v1_split_train.shape[0]} movie scenes, {round((df_v1_split_train.shape[0]/df_dataset_trailer.shape[0])*100,2)}%')\n",
    "print(f'The test dataset has {df_v1_split_test.shape[0]} movie scenes, {round((df_v1_split_test.shape[0]/df_dataset_trailer.shape[0])*100,2)}%')\n",
    "print(f'The validation dataset has {df_v1_split_val.shape[0]} movie scenes, {round((df_v1_split_val.shape[0]/df_dataset_trailer.shape[0])*100,2)}%')\n",
    "print(f'Total movie scenes {df_v1_split_train.shape[0] + df_v1_split_test.shape[0] + df_v1_split_val.shape[0]}')"
   ]
  },
  {
   "cell_type": "markdown",
   "metadata": {},
   "source": [
    "List all columns in the train dataset."
   ]
  },
  {
   "cell_type": "code",
   "execution_count": 15,
   "metadata": {},
   "outputs": [
    {
     "data": {
      "text/plain": [
       "Index(['movie_id', 'movie_scene_id', 'scene_scale_label', 'scene_scale_value',\n",
       "       'scene_movement_label', 'scene_movement_value', 'data_split_type',\n",
       "       'scene_frames', 'scene_width', 'scene_height', 'scene_fps',\n",
       "       'scene_duration', 'scene_fullpath'],\n",
       "      dtype='object')"
      ]
     },
     "execution_count": 15,
     "metadata": {},
     "output_type": "execute_result"
    }
   ],
   "source": [
    "df_dataset_trailer.columns"
   ]
  },
  {
   "cell_type": "markdown",
   "metadata": {},
   "source": [
    "Number of columns of each data type."
   ]
  },
  {
   "cell_type": "code",
   "execution_count": 16,
   "metadata": {},
   "outputs": [
    {
     "data": {
      "text/plain": [
       "object     5\n",
       "float64    5\n",
       "int64      3\n",
       "dtype: int64"
      ]
     },
     "execution_count": 16,
     "metadata": {},
     "output_type": "execute_result"
    }
   ],
   "source": [
    "df_dataset_trailer.dtypes.value_counts()"
   ]
  },
  {
   "cell_type": "markdown",
   "metadata": {},
   "source": [
    "For categorical variables, show the number of distinct values in each column (number of labels)"
   ]
  },
  {
   "cell_type": "code",
   "execution_count": 17,
   "metadata": {},
   "outputs": [
    {
     "data": {
      "text/plain": [
       "movie_id                 7848\n",
       "scene_scale_label           5\n",
       "scene_movement_label        5\n",
       "data_split_type             3\n",
       "scene_fullpath          33653\n",
       "dtype: int64"
      ]
     },
     "execution_count": 17,
     "metadata": {},
     "output_type": "execute_result"
    }
   ],
   "source": [
    "df_dataset_trailer.select_dtypes(include='object').nunique()"
   ]
  },
  {
   "cell_type": "markdown",
   "metadata": {},
   "source": [
    "Analyzing missing data: show the number of missing data for each column"
   ]
  },
  {
   "cell_type": "code",
   "execution_count": 18,
   "metadata": {},
   "outputs": [
    {
     "data": {
      "text/plain": [
       "movie_id                0\n",
       "movie_scene_id          0\n",
       "scene_scale_label       0\n",
       "scene_scale_value       0\n",
       "scene_movement_label    0\n",
       "scene_movement_value    0\n",
       "data_split_type         0\n",
       "scene_frames            0\n",
       "scene_width             0\n",
       "scene_height            0\n",
       "scene_fps               0\n",
       "scene_duration          0\n",
       "scene_fullpath          0\n",
       "dtype: int64"
      ]
     },
     "execution_count": 18,
     "metadata": {},
     "output_type": "execute_result"
    }
   ],
   "source": [
    "df_dataset_trailer.isna().sum()"
   ]
  },
  {
   "cell_type": "markdown",
   "metadata": {},
   "source": [
    "**Analyzing distribution of variables**"
   ]
  },
  {
   "cell_type": "markdown",
   "metadata": {},
   "source": [
    "Show the distribution of scene_scale_label column."
   ]
  },
  {
   "cell_type": "code",
   "execution_count": 19,
   "metadata": {},
   "outputs": [
    {
     "data": {
      "text/plain": [
       "<seaborn.axisgrid.FacetGrid at 0x2827b8f7c10>"
      ]
     },
     "execution_count": 19,
     "metadata": {},
     "output_type": "execute_result"
    },
    {
     "data": {
      "image/png": "[encoded data removed]",
      "text/plain": [
       "<Figure size 648.597x500 with 1 Axes>"
      ]
     },
     "metadata": {},
     "output_type": "display_data"
    }
   ],
   "source": [
    "sns.displot(data=df_dataset_trailer, x='scene_scale_label', hue='scene_scale_label', stat='percent', kde=True).set(xlabel='Scene scale label')"
   ]
  },
  {
   "cell_type": "markdown",
   "metadata": {},
   "source": [
    "Show the distribution of scale_movement_label column."
   ]
  },
  {
   "cell_type": "code",
   "execution_count": 20,
   "metadata": {},
   "outputs": [
    {
     "data": {
      "text/plain": [
       "<seaborn.axisgrid.FacetGrid at 0x28216501ba0>"
      ]
     },
     "execution_count": 20,
     "metadata": {},
     "output_type": "execute_result"
    },
    {
     "data": {
      "image/png": "[encoded data removed]",
      "text/plain": [
       "<Figure size 687.972x500 with 1 Axes>"
      ]
     },
     "metadata": {},
     "output_type": "display_data"
    }
   ],
   "source": [
    "sns.displot(data=df_dataset_trailer, x='scene_movement_label', hue='scene_movement_label', stat='percent', kde=True).set(xlabel='Scene movement label')"
   ]
  },
  {
   "cell_type": "markdown",
   "metadata": {},
   "source": [
    "Show the distribution of scale_frame column vs scene_movement_label, hue = scene_scale_label."
   ]
  },
  {
   "cell_type": "code",
   "execution_count": 21,
   "metadata": {},
   "outputs": [
    {
     "data": {
      "text/plain": [
       "<seaborn.axisgrid.FacetGrid at 0x2821645c670>"
      ]
     },
     "execution_count": 21,
     "metadata": {},
     "output_type": "execute_result"
    },
    {
     "data": {
      "text/plain": [
       "<Figure size 2000x800 with 0 Axes>"
      ]
     },
     "metadata": {},
     "output_type": "display_data"
    },
    {
     "data": {
      "image/png": "[encoded data removed]",
      "text/plain": [
       "<Figure size 750x500 with 1 Axes>"
      ]
     },
     "metadata": {},
     "output_type": "display_data"
    }
   ],
   "source": [
    "plt.figure(figsize=(20, 8))\n",
    "sns.displot(data=df_dataset_trailer,x=\"scene_frames\",kind=\"hist\",aspect=1.5, kde=True, rug=True).set(xlabel='Scene frames')"
   ]
  },
  {
   "cell_type": "markdown",
   "metadata": {},
   "source": [
    "Show the distribution of duration column."
   ]
  },
  {
   "cell_type": "code",
   "execution_count": 22,
   "metadata": {},
   "outputs": [
    {
     "data": {
      "text/plain": [
       "<seaborn.axisgrid.FacetGrid at 0x282164d3040>"
      ]
     },
     "execution_count": 22,
     "metadata": {},
     "output_type": "execute_result"
    },
    {
     "data": {
      "image/png": "[encoded data removed]",
      "text/plain": [
       "<Figure size 750x500 with 1 Axes>"
      ]
     },
     "metadata": {},
     "output_type": "display_data"
    }
   ],
   "source": [
    "sns.displot(data=df_dataset_trailer,x=\"scene_duration\",kind=\"hist\",aspect=1.5, kde=True, rug=True).set(xlabel='Scene duration in seconds')"
   ]
  },
  {
   "attachments": {},
   "cell_type": "markdown",
   "metadata": {},
   "source": [
    "Show the distribution of fps and frames columns."
   ]
  },
  {
   "cell_type": "code",
   "execution_count": 23,
   "metadata": {},
   "outputs": [
    {
     "data": {
      "text/html": [
       "<div>\n",
       "<style scoped>\n",
       "    .dataframe tbody tr th:only-of-type {\n",
       "        vertical-align: middle;\n",
       "    }\n",
       "\n",
       "    .dataframe tbody tr th {\n",
       "        vertical-align: top;\n",
       "    }\n",
       "\n",
       "    .dataframe thead th {\n",
       "        text-align: right;\n",
       "    }\n",
       "</style>\n",
       "<table border=\"1\" class=\"dataframe\">\n",
       "  <thead>\n",
       "    <tr style=\"text-align: right;\">\n",
       "      <th></th>\n",
       "      <th>fps_unique_values</th>\n",
       "      <th>counts</th>\n",
       "      <th>%</th>\n",
       "      <th>sum_percentage</th>\n",
       "    </tr>\n",
       "  </thead>\n",
       "  <tbody>\n",
       "    <tr>\n",
       "      <th>0</th>\n",
       "      <td>23.98</td>\n",
       "      <td>10779</td>\n",
       "      <td>32.03</td>\n",
       "      <td>32.03</td>\n",
       "    </tr>\n",
       "    <tr>\n",
       "      <th>1</th>\n",
       "      <td>25.00</td>\n",
       "      <td>8996</td>\n",
       "      <td>26.73</td>\n",
       "      <td>58.76</td>\n",
       "    </tr>\n",
       "    <tr>\n",
       "      <th>2</th>\n",
       "      <td>24.00</td>\n",
       "      <td>8433</td>\n",
       "      <td>25.06</td>\n",
       "      <td>83.82</td>\n",
       "    </tr>\n",
       "    <tr>\n",
       "      <th>3</th>\n",
       "      <td>23.97</td>\n",
       "      <td>2474</td>\n",
       "      <td>7.35</td>\n",
       "      <td>91.17</td>\n",
       "    </tr>\n",
       "    <tr>\n",
       "      <th>4</th>\n",
       "      <td>29.97</td>\n",
       "      <td>1941</td>\n",
       "      <td>5.77</td>\n",
       "      <td>96.94</td>\n",
       "    </tr>\n",
       "    <tr>\n",
       "      <th>5</th>\n",
       "      <td>30.00</td>\n",
       "      <td>334</td>\n",
       "      <td>0.99</td>\n",
       "      <td>97.93</td>\n",
       "    </tr>\n",
       "    <tr>\n",
       "      <th>6</th>\n",
       "      <td>25.01</td>\n",
       "      <td>209</td>\n",
       "      <td>0.62</td>\n",
       "      <td>98.55</td>\n",
       "    </tr>\n",
       "    <tr>\n",
       "      <th>7</th>\n",
       "      <td>24.01</td>\n",
       "      <td>178</td>\n",
       "      <td>0.53</td>\n",
       "      <td>99.08</td>\n",
       "    </tr>\n",
       "    <tr>\n",
       "      <th>8</th>\n",
       "      <td>50.00</td>\n",
       "      <td>40</td>\n",
       "      <td>0.12</td>\n",
       "      <td>99.20</td>\n",
       "    </tr>\n",
       "    <tr>\n",
       "      <th>9</th>\n",
       "      <td>29.98</td>\n",
       "      <td>37</td>\n",
       "      <td>0.11</td>\n",
       "      <td>99.31</td>\n",
       "    </tr>\n",
       "    <tr>\n",
       "      <th>10</th>\n",
       "      <td>59.94</td>\n",
       "      <td>36</td>\n",
       "      <td>0.11</td>\n",
       "      <td>99.42</td>\n",
       "    </tr>\n",
       "    <tr>\n",
       "      <th>11</th>\n",
       "      <td>23.99</td>\n",
       "      <td>33</td>\n",
       "      <td>0.10</td>\n",
       "      <td>99.52</td>\n",
       "    </tr>\n",
       "    <tr>\n",
       "      <th>12</th>\n",
       "      <td>60.00</td>\n",
       "      <td>32</td>\n",
       "      <td>0.10</td>\n",
       "      <td>99.62</td>\n",
       "    </tr>\n",
       "    <tr>\n",
       "      <th>13</th>\n",
       "      <td>23.92</td>\n",
       "      <td>24</td>\n",
       "      <td>0.07</td>\n",
       "      <td>99.69</td>\n",
       "    </tr>\n",
       "    <tr>\n",
       "      <th>14</th>\n",
       "      <td>24.98</td>\n",
       "      <td>13</td>\n",
       "      <td>0.04</td>\n",
       "      <td>99.73</td>\n",
       "    </tr>\n",
       "    <tr>\n",
       "      <th>15</th>\n",
       "      <td>25.02</td>\n",
       "      <td>9</td>\n",
       "      <td>0.03</td>\n",
       "      <td>99.76</td>\n",
       "    </tr>\n",
       "    <tr>\n",
       "      <th>16</th>\n",
       "      <td>29.00</td>\n",
       "      <td>9</td>\n",
       "      <td>0.03</td>\n",
       "      <td>99.79</td>\n",
       "    </tr>\n",
       "    <tr>\n",
       "      <th>17</th>\n",
       "      <td>30.01</td>\n",
       "      <td>9</td>\n",
       "      <td>0.03</td>\n",
       "      <td>99.82</td>\n",
       "    </tr>\n",
       "    <tr>\n",
       "      <th>18</th>\n",
       "      <td>14.99</td>\n",
       "      <td>8</td>\n",
       "      <td>0.02</td>\n",
       "      <td>99.84</td>\n",
       "    </tr>\n",
       "    <tr>\n",
       "      <th>19</th>\n",
       "      <td>23.96</td>\n",
       "      <td>8</td>\n",
       "      <td>0.02</td>\n",
       "      <td>99.86</td>\n",
       "    </tr>\n",
       "    <tr>\n",
       "      <th>20</th>\n",
       "      <td>24.88</td>\n",
       "      <td>7</td>\n",
       "      <td>0.02</td>\n",
       "      <td>99.88</td>\n",
       "    </tr>\n",
       "    <tr>\n",
       "      <th>21</th>\n",
       "      <td>24.02</td>\n",
       "      <td>6</td>\n",
       "      <td>0.02</td>\n",
       "      <td>99.90</td>\n",
       "    </tr>\n",
       "    <tr>\n",
       "      <th>22</th>\n",
       "      <td>24.04</td>\n",
       "      <td>6</td>\n",
       "      <td>0.02</td>\n",
       "      <td>99.92</td>\n",
       "    </tr>\n",
       "    <tr>\n",
       "      <th>23</th>\n",
       "      <td>29.32</td>\n",
       "      <td>5</td>\n",
       "      <td>0.01</td>\n",
       "      <td>99.93</td>\n",
       "    </tr>\n",
       "    <tr>\n",
       "      <th>24</th>\n",
       "      <td>23.95</td>\n",
       "      <td>5</td>\n",
       "      <td>0.01</td>\n",
       "      <td>99.94</td>\n",
       "    </tr>\n",
       "    <tr>\n",
       "      <th>25</th>\n",
       "      <td>29.92</td>\n",
       "      <td>4</td>\n",
       "      <td>0.01</td>\n",
       "      <td>99.95</td>\n",
       "    </tr>\n",
       "    <tr>\n",
       "      <th>26</th>\n",
       "      <td>23.00</td>\n",
       "      <td>3</td>\n",
       "      <td>0.01</td>\n",
       "      <td>99.96</td>\n",
       "    </tr>\n",
       "    <tr>\n",
       "      <th>27</th>\n",
       "      <td>29.99</td>\n",
       "      <td>3</td>\n",
       "      <td>0.01</td>\n",
       "      <td>99.97</td>\n",
       "    </tr>\n",
       "    <tr>\n",
       "      <th>28</th>\n",
       "      <td>24.55</td>\n",
       "      <td>3</td>\n",
       "      <td>0.01</td>\n",
       "      <td>99.98</td>\n",
       "    </tr>\n",
       "    <tr>\n",
       "      <th>29</th>\n",
       "      <td>23.87</td>\n",
       "      <td>2</td>\n",
       "      <td>0.01</td>\n",
       "      <td>99.99</td>\n",
       "    </tr>\n",
       "    <tr>\n",
       "      <th>30</th>\n",
       "      <td>20.00</td>\n",
       "      <td>2</td>\n",
       "      <td>0.01</td>\n",
       "      <td>100.00</td>\n",
       "    </tr>\n",
       "    <tr>\n",
       "      <th>31</th>\n",
       "      <td>23.89</td>\n",
       "      <td>2</td>\n",
       "      <td>0.01</td>\n",
       "      <td>100.01</td>\n",
       "    </tr>\n",
       "    <tr>\n",
       "      <th>32</th>\n",
       "      <td>29.34</td>\n",
       "      <td>2</td>\n",
       "      <td>0.01</td>\n",
       "      <td>100.02</td>\n",
       "    </tr>\n",
       "    <tr>\n",
       "      <th>33</th>\n",
       "      <td>15.00</td>\n",
       "      <td>1</td>\n",
       "      <td>0.00</td>\n",
       "      <td>100.02</td>\n",
       "    </tr>\n",
       "  </tbody>\n",
       "</table>\n",
       "</div>"
      ],
      "text/plain": [
       "    fps_unique_values  counts      %  sum_percentage\n",
       "0               23.98   10779  32.03           32.03\n",
       "1               25.00    8996  26.73           58.76\n",
       "2               24.00    8433  25.06           83.82\n",
       "3               23.97    2474   7.35           91.17\n",
       "4               29.97    1941   5.77           96.94\n",
       "5               30.00     334   0.99           97.93\n",
       "6               25.01     209   0.62           98.55\n",
       "7               24.01     178   0.53           99.08\n",
       "8               50.00      40   0.12           99.20\n",
       "9               29.98      37   0.11           99.31\n",
       "10              59.94      36   0.11           99.42\n",
       "11              23.99      33   0.10           99.52\n",
       "12              60.00      32   0.10           99.62\n",
       "13              23.92      24   0.07           99.69\n",
       "14              24.98      13   0.04           99.73\n",
       "15              25.02       9   0.03           99.76\n",
       "16              29.00       9   0.03           99.79\n",
       "17              30.01       9   0.03           99.82\n",
       "18              14.99       8   0.02           99.84\n",
       "19              23.96       8   0.02           99.86\n",
       "20              24.88       7   0.02           99.88\n",
       "21              24.02       6   0.02           99.90\n",
       "22              24.04       6   0.02           99.92\n",
       "23              29.32       5   0.01           99.93\n",
       "24              23.95       5   0.01           99.94\n",
       "25              29.92       4   0.01           99.95\n",
       "26              23.00       3   0.01           99.96\n",
       "27              29.99       3   0.01           99.97\n",
       "28              24.55       3   0.01           99.98\n",
       "29              23.87       2   0.01           99.99\n",
       "30              20.00       2   0.01          100.00\n",
       "31              23.89       2   0.01          100.01\n",
       "32              29.34       2   0.01          100.02\n",
       "33              15.00       1   0.00          100.02"
      ]
     },
     "execution_count": 23,
     "metadata": {},
     "output_type": "execute_result"
    }
   ],
   "source": [
    "df_fps =pd.DataFrame(df_dataset_trailer['scene_fps'].value_counts()).reset_index()\n",
    "df_fps.columns = ['fps_unique_values', 'counts']\n",
    "df_fps['%'] = df_fps.counts.apply(lambda x: round((x/df_fps['counts'].sum())*100,2))\n",
    "df_fps = df_fps.assign(sum_percentage=df_fps['%'].cumsum())\n",
    "df_fps"
   ]
  },
  {
   "cell_type": "code",
   "execution_count": 24,
   "metadata": {},
   "outputs": [
    {
     "data": {
      "text/plain": [
       "[Text(0.5, 0, 'FPS')]"
      ]
     },
     "execution_count": 24,
     "metadata": {},
     "output_type": "execute_result"
    },
    {
     "data": {
      "image/png": "[encoded data removed]",
      "text/plain": [
       "<Figure size 2000x800 with 1 Axes>"
      ]
     },
     "metadata": {},
     "output_type": "display_data"
    }
   ],
   "source": [
    "plt.figure(figsize=(20, 8))\n",
    "sns.barplot(data=df_fps, x=\"fps_unique_values\", y=\"%\").set(xlabel='FPS')"
   ]
  },
  {
   "cell_type": "code",
   "execution_count": 25,
   "metadata": {},
   "outputs": [
    {
     "data": {
      "text/html": [
       "<div>\n",
       "<style scoped>\n",
       "    .dataframe tbody tr th:only-of-type {\n",
       "        vertical-align: middle;\n",
       "    }\n",
       "\n",
       "    .dataframe tbody tr th {\n",
       "        vertical-align: top;\n",
       "    }\n",
       "\n",
       "    .dataframe thead th {\n",
       "        text-align: right;\n",
       "    }\n",
       "</style>\n",
       "<table border=\"1\" class=\"dataframe\">\n",
       "  <thead>\n",
       "    <tr style=\"text-align: right;\">\n",
       "      <th></th>\n",
       "      <th>frames_unique_values</th>\n",
       "      <th>counts</th>\n",
       "      <th>%</th>\n",
       "      <th>sum_percentage</th>\n",
       "    </tr>\n",
       "  </thead>\n",
       "  <tbody>\n",
       "    <tr>\n",
       "      <th>0</th>\n",
       "      <td>14.0</td>\n",
       "      <td>1189</td>\n",
       "      <td>3.53</td>\n",
       "      <td>3.53</td>\n",
       "    </tr>\n",
       "    <tr>\n",
       "      <th>1</th>\n",
       "      <td>22.0</td>\n",
       "      <td>1184</td>\n",
       "      <td>3.52</td>\n",
       "      <td>7.05</td>\n",
       "    </tr>\n",
       "    <tr>\n",
       "      <th>2</th>\n",
       "      <td>21.0</td>\n",
       "      <td>1184</td>\n",
       "      <td>3.52</td>\n",
       "      <td>10.57</td>\n",
       "    </tr>\n",
       "    <tr>\n",
       "      <th>3</th>\n",
       "      <td>19.0</td>\n",
       "      <td>1144</td>\n",
       "      <td>3.40</td>\n",
       "      <td>13.97</td>\n",
       "    </tr>\n",
       "    <tr>\n",
       "      <th>4</th>\n",
       "      <td>18.0</td>\n",
       "      <td>1143</td>\n",
       "      <td>3.40</td>\n",
       "      <td>17.37</td>\n",
       "    </tr>\n",
       "    <tr>\n",
       "      <th>...</th>\n",
       "      <td>...</td>\n",
       "      <td>...</td>\n",
       "      <td>...</td>\n",
       "      <td>...</td>\n",
       "    </tr>\n",
       "    <tr>\n",
       "      <th>312</th>\n",
       "      <td>241.0</td>\n",
       "      <td>1</td>\n",
       "      <td>0.00</td>\n",
       "      <td>99.77</td>\n",
       "    </tr>\n",
       "    <tr>\n",
       "      <th>313</th>\n",
       "      <td>327.0</td>\n",
       "      <td>1</td>\n",
       "      <td>0.00</td>\n",
       "      <td>99.77</td>\n",
       "    </tr>\n",
       "    <tr>\n",
       "      <th>314</th>\n",
       "      <td>544.0</td>\n",
       "      <td>1</td>\n",
       "      <td>0.00</td>\n",
       "      <td>99.77</td>\n",
       "    </tr>\n",
       "    <tr>\n",
       "      <th>315</th>\n",
       "      <td>620.0</td>\n",
       "      <td>1</td>\n",
       "      <td>0.00</td>\n",
       "      <td>99.77</td>\n",
       "    </tr>\n",
       "    <tr>\n",
       "      <th>316</th>\n",
       "      <td>262.0</td>\n",
       "      <td>1</td>\n",
       "      <td>0.00</td>\n",
       "      <td>99.77</td>\n",
       "    </tr>\n",
       "  </tbody>\n",
       "</table>\n",
       "<p>317 rows × 4 columns</p>\n",
       "</div>"
      ],
      "text/plain": [
       "     frames_unique_values  counts     %  sum_percentage\n",
       "0                    14.0    1189  3.53            3.53\n",
       "1                    22.0    1184  3.52            7.05\n",
       "2                    21.0    1184  3.52           10.57\n",
       "3                    19.0    1144  3.40           13.97\n",
       "4                    18.0    1143  3.40           17.37\n",
       "..                    ...     ...   ...             ...\n",
       "312                 241.0       1  0.00           99.77\n",
       "313                 327.0       1  0.00           99.77\n",
       "314                 544.0       1  0.00           99.77\n",
       "315                 620.0       1  0.00           99.77\n",
       "316                 262.0       1  0.00           99.77\n",
       "\n",
       "[317 rows x 4 columns]"
      ]
     },
     "execution_count": 25,
     "metadata": {},
     "output_type": "execute_result"
    }
   ],
   "source": [
    "df_frames =pd.DataFrame(df_dataset_trailer['scene_frames'].value_counts()).reset_index()\n",
    "df_frames.columns = ['frames_unique_values', 'counts']\n",
    "df_frames['%'] = df_frames.counts.apply(lambda x: round((x/df_frames['counts'].sum())*100,2))\n",
    "df_frames = df_frames.assign(sum_percentage=df_frames['%'].cumsum())\n",
    "df_frames"
   ]
  },
  {
   "cell_type": "markdown",
   "metadata": {},
   "source": [
    "**Conclusion**"
   ]
  },
  {
   "cell_type": "markdown",
   "metadata": {},
   "source": []
  }
 ],
 "metadata": {
  "kernelspec": {
   "display_name": "Python 3.10.7 ('anyoneai-final-project-vsryO9N8-py3.10')",
   "language": "python",
   "name": "python3"
  },
  "language_info": {
   "codemirror_mode": {
    "name": "ipython",
    "version": 3
   },
   "file_extension": ".py",
   "mimetype": "text/x-python",
   "name": "python",
   "nbconvert_exporter": "python",
   "pygments_lexer": "ipython3",
   "version": "3.10.7 (tags/v3.10.7:6cc6b13, Sep  5 2022, 14:08:36) [MSC v.1933 64 bit (AMD64)]"
  },
  "orig_nbformat": 4,
  "vscode": {
   "interpreter": {
    "hash": "c5fe41fc76aafc06bbbab81e0cc1edb6ebb2b7cf14e1f456e223859e64c8a609"
   }
  }
 },
 "nbformat": 4,
 "nbformat_minor": 2
}
